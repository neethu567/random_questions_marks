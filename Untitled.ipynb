{
 "cells": [
  {
   "cell_type": "code",
   "execution_count": null,
   "id": "armed-profile",
   "metadata": {},
   "outputs": [
    {
     "name": "stdout",
     "output_type": "stream",
     "text": [
      "choose the correct answer from the multiple choice question given below\n",
      "['31', '\\tWhat is the principle by which a cooling system (Radiator) in a motor car works? A', ' Conduction only B', ' Convection C', ' Radiation only D', ' Both conduction and radiation ']\n",
      "select the answer\n"
     ]
    }
   ],
   "source": [
    "import ast\n",
    "import random\n",
    "def randomQuestion():\n",
    "    question=random.sample(open(\"pro-t.txt\").read().splitlines(),10)\n",
    "    return question\n",
    "\n",
    "print(\"choose the correct answer from the multiple choice question given below\")\n",
    "count=0\n",
    "\n",
    "for i in randomQuestion():\n",
    "    questnumber=i.split(\".\")[:1]\n",
    "    quest=i.split(\".\")\n",
    "    print(quest)\n",
    "    print(end=\"\")\n",
    "    print(\"select the answer\")\n",
    "    print(end=\"\")\n",
    "    ans=input().upper()\n",
    "    with open('dict1.txt') as f:\n",
    "        data=f.read()\n",
    "    d=ast.literal_eval(data)\n",
    "    if ans==d[questnumber[0]]:\n",
    "        count+=1\n",
    "        print(\"right answer ,your score is \",count)\n",
    "        print(end=\"\")\n",
    "    else:\n",
    "        count-=1\n",
    "        print(\"wrong answer,your score is\", count) \n",
    "        print(end=\"\")\n",
    "print(\"Exam is over and your total score is \",count)\n",
    "\n",
    "\n",
    "\n",
    "    \n",
    "    \n",
    "   \n",
    "    \n",
    "    \n",
    "    \n",
    "    \n",
    "\n",
    "\n",
    "\n",
    "\n",
    "\n",
    "\n",
    "\n"
   ]
  },
  {
   "cell_type": "code",
   "execution_count": null,
   "id": "prostate-orientation",
   "metadata": {},
   "outputs": [],
   "source": []
  },
  {
   "cell_type": "code",
   "execution_count": 9,
   "id": "protected-accordance",
   "metadata": {},
   "outputs": [
    {
     "data": {
      "text/plain": [
       "['1.\\tSound waves do not exhibit the phenomenon of A. interference B. refraction C. diffraction D. polarization',\n",
       " '2.\\t Perspiration cools the body because A. Water has a high specific heat B. Presence of water on the skin is cooling C. Evaporation requires latent heat D. Water is poor conductor of heat',\n",
       " '3.\\tIndia would phase out the production and consumption of the controlled ODS (ozone - depleting substances) withing the time frame and limits specified in the A. Agenda 21 B. Basel Convention C. Montreal Protocol D. Vienna convention',\n",
       " '4.\\tThe instrument used to measure pressue. A. Aneroid Barometer B. Anemometer C. Hygrometer D. Thermometer',\n",
       " '5.\\tHeat is transmitted from higher to lower temperature through actual mass motion of the molecules in A. radiation B. conduction C. convection D. all of the above',\n",
       " '6.\\tWhen some detergent is added to water, the surface tension: A. decreases B. increases C. remains unaffected D. none of these',\n",
       " '7.\\tA ray of light when refracted suffers change in velocity. In theis context, which one among the following statements is correct? A. Velocity decreases as the ray passes from a denser to a rarer medium B. Change of velocity does not depend on the nature of medium C. Velocity increases as the ray passes from a rarer to a denser medium D. Velocity decreases as the ray passes from a rarer to a denser medium',\n",
       " '8.\\tHow can boiling point of a liquid be reduced? A. by decreasing the pressure on the liquid B. by increasing the pressure on the liquid C. by adding a solid of lower melting point D. by dissolving a soluble solid in it',\n",
       " '9.\\t If ahigh power heater is connected to electric mains, then the bulbs in the house become dim because there is a A. no current drop B. potential drop C. no potential drop D. current drop',\n",
       " '10.\\tWhich of the following can be foundas pollutants in the drinking water insome parts of India? 1. Arsenic 2. Sorbital 3. Dluoride 4. Formaldehyde 5. Uranium Select the correct answer usning fthecodes given below. A. 1 and 3 only B. 1, 3 and 5 only C. 1, 2, 3, 4 and 5 D. 2, 4 and 5 only ',\n",
       " '11.\\tA water tank appears shallower when it is viewed from top due to A. Reflection B. Total internal reflection C. Refraction D. Rectilinear propagation of light',\n",
       " '12.\\tQuality of musical note depends on A. amplitude of the wave B. harmonics present C. fundamental frequency D. velocity of sound in medium ',\n",
       " '13.\\tA soap buble is given negative charge then its radius A. none of these B. remains unchanged C. decreases D. increases ',\n",
       " '14.\\tThe main source of enrgy in Sun is: A. Nuclear fission B. Mechanical energy C. Chemical reaction D. Nuclear fusion ',\n",
       " '15.\\tX- rays were discovered byA. Curie B. Roentgen C. Becquere D. Van lane ',\n",
       " '16.\\tA fuse is used in an electric circuit toA. Break the circuit when power gets off B. Indicate if the current is flowing uninterrupted C. Complete the circuit for flow of current D. Break the circuit when excessive current flows through the circuit ',\n",
       " '17.\\tThe sounds having frequency of 20 Hz to 20, 000 Hz are A. Infrasonic B. Audible sounds C. Hydpersonic D. Ultrasound ',\n",
       " '18.\\tSound moves with higher velocity if A. temperature of the medium inincreased B. both ( b ) and ( c ) C. pressure of the medium is decreased D. humidity of the medium',\n",
       " '19.\\tThe intensity ratio of waves is 25:9. What is the ratio of their amplitudes? A. 50 : 18 B. 5 : 3 C. 25 : 9 D. 3 : 5 ',\n",
       " \"20.\\tWhich one among the following is responsible for formation of 'Ozone Holes' in the stratosphere? A. Benzophye B. UV radiation C. Chlorofluorocarbons D. Hydrocarbons \",\n",
       " '21.\\tWhen X - rays are produced, then A. heat is observed by the target B. a lumineous light is to be seen on the target C. Temperature of the target is being constent D. heat is produced on the target ',\n",
       " '22.\\tWhite clothes are cooler than black ones because they A. will nt allow the light to penetrate B. Absorb all the light tha reaches them C. cool the sun light completely D. reflect all the light that reaches them ',\n",
       " '23.\\tWhich one among the following rroups is the most abundant in terms of number os species identified? A. Green plants B. Insects C. Bacteria D. Fundgi ',\n",
       " \"24.\\tThe Doppler's effect is applicable for A. both ( a ) and ( b ) B. space wave C. light wave D. sound wave \",\n",
       " '25.\\tWhich one of the following is not a result of surface tension? A. Its P.E. decrases while kinetic energy increases B. Both potential and kinetic energy increase C. Both potential and kinetic energy decrease D. Its K.E. decreases while potential energy increases ',\n",
       " \"26.\\t?- ray consists of: A. Meson particles B. Neutrino particles C. Higg's boson D. Electromagnetic waves \",\n",
       " '27.\\tA plane glass slab is kept over coloured letters, the letter which appears least raised is A. Red B. Violet C. Blue D. Green ',\n",
       " '28.\\tWhy is red light employed for danger signals? A. red light is scattered least B. red light is scattered most C. human eye is most sensitive to red colour D. red colour is sooting to the eye ',\n",
       " '29.\\tIn an isothermal expansion of a gas A. None of these B. temperature remains constant C. a pressure remains constan D. density remains constant ',\n",
       " '30.\\tCurrent provided by a battery is maximum when A. internal resistance is less than external resistance B. none of these C. internal resistance is greater than external resistance D. internal resistance is equal to external resistance ',\n",
       " '31.\\tWhat is the principle by which a cooling system (Radiator) in a motor car works? A. Conduction only B. Convection C. Radiation only D. Both conduction and radiation ',\n",
       " \"32.\\tThe value of g on the Earth's surface changes due to A. Shape of Earth only B. Rotation orf the Earth only C. None of the above D. Both rotation and shape of the Earth \",\n",
       " '33.\\tThe ozone layer absorbs A. X – rays B. ultraviolet radiation C. – y rays D. infrared radiation ',\n",
       " \"34.\\tA person can jump higer on the moon's surface than on the earth because. A. The moon's surface is rough B. The moon is cooler than earth C. The moon has no atmosphere D. The acceleration due to gravity in moon is smaller than that on the earth \",\n",
       " '35.\\tThe mass number of an atom is determined byA. Adding the number of protons and number of electrons B. Adding the number of neutrons and number of protons C. Adding the number of neutrons and number of electrons D. The number of protons only ',\n",
       " '36.\\tThe rapidly growing mass of phytoplankton covering the surface water of lake or pond is known as: A. Water hyacinth B. Water bloom C. Eutrophication D. Water pollution ',\n",
       " '37.\\tThe depletion of Ozone layer is mainly due toA. Chloroflurocarbons B. Aviation fuels C. Volcanic Eruptions D. Radioactive rays ',\n",
       " '38.\\tIt is difficult to cook at high altitudes because A. due to decrease in atmospheric pressure, the boiling point of water decreases B. due to falling temperature, more heat has to be given C. there is less oxygen in the air D. of high moisture content there ',\n",
       " '39.\\tLight year is a measurement ofA. speed of rockets B. Speed of aeroplanes C. Stellar distance D. Speed of light ',\n",
       " '40.\\tIn which of the following sequences are the electromagnetic radiations in decreasing order of wave lengths A. infrared, radio, X –rays, visible B. X – rays, visible, infrared, radio C. radio, visible, infrared, X – rays D. radio, infrared, visible, X – rays ',\n",
       " '41.\\tIn optical instrument, the lenses are used to form image by the phenomenon of - A. refraction B. reflection C. diffusion D. scattering ',\n",
       " '42.\\tThe head mirror used by E.N.T. doctors is A. convesx B. Cancave C. planoconvex D. plane',\n",
       " '43.\\tInstrument used to study the behavior of a vibrating string is: A. Hydrometer B. Sonmeter C. Barometer D. Hygrometer ',\n",
       " '44.\\tWhen the velocity of a body is doubled A. its K.E. is doubled B. its P.E. is doubled C. its acceleration is doubled D. its momentum is doubled ',\n",
       " '45.\\tThe heating element of an electric heater should be made of a material having A. low specific resistance and high melting point B. low specific resistance and low melting point C. high specific resistance and high melting point D. high specific resistance and low melting point ',\n",
       " '46.\\tWhich one of the following pairs ofrays is electromagnetic in nature - A. ?rays and – ß rays B. ß rays and ? rays C. cathode rays and X – rays D. X rays and ? rays ',\n",
       " '47.\\tThe length of the pendulum isdoubled and the mass of its bob is halved.Its time sperod would A. become 2 times B. remain the same C. become half D. become double ',\n",
       " '48.\\tWhich of the following is a primary consumer? A. Dog B. Bear C. Cow D. Hawk ',\n",
       " '49.\\tThe chipko Movement1. was an environmental movement toprevent cutting down of trees2. Raised the questions of ecological andeconomic exploitation3. Is a movement against alcoholism as itsbradened agenda?4. Demanded that local communitiesshould have control over their naturalresourcesSelect the correct answer using the codegiven below. A. 1, 2, 3 and 4 B. 2 and 3 only C. 1 and 2 only D. 1, 3 and 4 only ',\n",
       " '50.\\tRed data book gives information about species which areA. Extinct B. Rare C. Endagnered D. Dangerous ',\n",
       " '51.\\tAt normal temperature, due to a puncture, the compressed air inside the tube of a car wheel suddenly starts coming out. Then the air inside the tube A. Remains at the same temperature B. starts becoming cooler C. May become hotter or cooler depending on the amount of water vapour present in the air. D. starts becoming hotter ',\n",
       " '52.\\tWhich one of the following is not a site for in - situ method of conservation of flora? A. Wildlife Sanctuary B. Biosphere Reserve C. National park D. Botanical Garden ',\n",
       " '53.\\tA deep sea driver may hurt his ear drum during diving because of A. high atmospheric pressure B. lack of oxygen C. high water pressure D. All of the above ',\n",
       " '54.\\tThe shape of a rain drop is spherical due toA. Viscosity B. Surface tension C. Gravitation D. Elasticity',\n",
       " '55.\\tA change of 10° C in Centigrade scalecorresponds to what change in Fahrenheitscale A. 21°F B. 10°F C. 18° F D. 15°F ',\n",
       " '56.\\tThe image of our face in a plane mirror A. none of these B. magnified C. diminished D. real ',\n",
       " '57.\\tThis strain of rice was one of the first High Yielding Varieties of seeds developed in the world. Name it A. RV – 9 B. IS- 7 C. RS – 8 D. IR-8 ',\n",
       " '58.\\tThe primary colours in phothgraphy are A. red, blue, green B. red, green, cyan C. red, yellow, green D. red, blue, yellow ',\n",
       " '59.\\tWhen a body is earth conncected, electrons from the earth flow into the body. This means the body is A. uncharged B. charged positively C. charged negatively D. an insulator ',\n",
       " '60.\\tWhich of the following is not the cause of low conductivity of electrolyte A. Low number of density of charge carriers B. Low drift velocity of ions C. Ionization of salt D. High resistance offered by the solution of the motion of ions ']"
      ]
     },
     "execution_count": 9,
     "metadata": {},
     "output_type": "execute_result"
    }
   ],
   "source": [
    "open(\"pro-t.txt\").read().splitlines()\n"
   ]
  },
  {
   "cell_type": "code",
   "execution_count": 5,
   "id": "solid-commons",
   "metadata": {},
   "outputs": [
    {
     "data": {
      "text/plain": [
       "['49.\\tThe chipko Movement1. was an environmental movement toprevent cutting down of trees2. Raised the questions of ecological andeconomic exploitation3. Is a movement against alcoholism as itsbradened agenda?4. Demanded that local communitiesshould have control over their naturalresourcesSelect the correct answer using the codegiven below. A. 1, 2, 3 and 4 B. 2 and 3 only C. 1 and 2 only D. 1, 3 and 4 only ',\n",
       " '1.\\tSound waves do not exhibit the phenomenon of A. interference B. refraction C. diffraction D. polarization']"
      ]
     },
     "execution_count": 5,
     "metadata": {},
     "output_type": "execute_result"
    }
   ],
   "source": [
    "random.sample(open(\"pro-t.txt\").read().splitlines(),2)\n"
   ]
  },
  {
   "cell_type": "code",
   "execution_count": null,
   "id": "resident-sally",
   "metadata": {},
   "outputs": [],
   "source": []
  },
  {
   "cell_type": "code",
   "execution_count": null,
   "id": "crude-decade",
   "metadata": {},
   "outputs": [],
   "source": []
  },
  {
   "cell_type": "code",
   "execution_count": null,
   "id": "played-slovenia",
   "metadata": {},
   "outputs": [],
   "source": []
  },
  {
   "cell_type": "code",
   "execution_count": null,
   "id": "floppy-truck",
   "metadata": {},
   "outputs": [],
   "source": []
  }
 ],
 "metadata": {
  "kernelspec": {
   "display_name": "Python 3",
   "language": "python",
   "name": "python3"
  },
  "language_info": {
   "codemirror_mode": {
    "name": "ipython",
    "version": 3
   },
   "file_extension": ".py",
   "mimetype": "text/x-python",
   "name": "python",
   "nbconvert_exporter": "python",
   "pygments_lexer": "ipython3",
   "version": "3.8.5"
  }
 },
 "nbformat": 4,
 "nbformat_minor": 5
}
